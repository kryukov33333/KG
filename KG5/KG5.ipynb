{
  "cells": [
    {
      "metadata": {
        "trusted": true
      },
      "cell_type": "code",
      "source": "import numpy as np\nfrom matplotlib import pyplot as plt\ndef clip(subjectPolygon, clipPolygon):\n    def inside(p):\n      return(cp2[0]-cp1[0])*(p[1]-cp1[1]) <= (cp2[1]-cp1[1])*(p[0]-cp1[0])\n\n    def computeIntersection():\n      dc = [ cp1[0] - cp2[0], cp1[1] - cp2[1] ]\n      dp = [ s[0] - e[0], s[1] - e[1] ]\n      n1 = cp1[0] * cp2[1] - cp1[1] * cp2[0]\n      n2 = s[0] * e[1] - s[1] * e[0] \n      n3 = 1.0 / (dc[0] * dp[1] - dc[1] * dp[0])\n      return [(n1*dp[0] - n2*dc[0]) * n3, (n1*dp[1] - n2*dc[1]) * n3]\n\n    outputList = subjectPolygon\n    cp1 = clipPolygon[-1]\n\n    for clipVertex in clipPolygon:\n      cp2 = clipVertex\n      inputList = outputList\n      outputList = []\n      s = inputList[-1]\n\n      for subjectVertex in inputList:\n         e = subjectVertex\n         if inside(e):\n            if not inside(s):\n               outputList.append(computeIntersection())\n            outputList.append(e)\n         elif inside(s):\n            outputList.append(computeIntersection())\n         s = e\n      cp1 = cp2\n    return outputList\n",
      "execution_count": 10,
      "outputs": []
    },
    {
      "metadata": {
        "trusted": true
      },
      "cell_type": "code",
      "source": "result = clip([[50,150],[180,90],[180,180]], [(100, 100), (100, 200), (200, 200), (200, 100)])\nresult = [[int(x), int(y)] for x,y in result]\nprint(result)\n\ndef draw_polygon(img, result):\n    prev = result[-1]\n    for cur in result:\n        draw(img, lineDDA(prev[0], prev[1], cur[0], cur[1]))\n        prev = cur\n\ndef draw(img, points):\n    h, w = img.shape\n    for x,y in points:\n        if x < h and y < w and x >= 0 and y >= 0:\n            img[x, y] = 1\n    return img\n \ndef mround(n):\n    if n == round(n):\n        return round(n)\n    if n*2 == round(n*2):\n        return round(n + 0.5)\n    else:\n        return round(n)\n    \ndef lineDDA(x1, y1, x2, y2):\n    if x1 == x2 and y1 == y2:\n        return [(x1, y1)]\n    points = []\n    x_start = x1\n    y_start = y1\n    x_end = x2\n    y_end = y2\n    delta_x = x_end - x_start\n    delta_y = y_end - y_start\n    L = max(abs(delta_x), abs(delta_y))\n    x_step = delta_x / L\n    y_step = delta_y / L\n    x, y = x1, y1\n    points.append((mround(x), mround(y)))\n    for i in range(L):\n        x = x + x_step\n        y = y + y_step\n        points.append((mround(x), mround(y)))\n    return points\n\nimg = np.zeros((210, 210))\ndraw_polygon(img, result)\nplt.imshow(img)",
      "execution_count": 12,
      "outputs": [
        {
          "output_type": "stream",
          "text": "[[100, 161], [100, 126], [158, 100], [180, 100], [180, 180]]\n",
          "name": "stdout"
        },
        {
          "output_type": "execute_result",
          "execution_count": 12,
          "data": {
            "text/plain": "<matplotlib.image.AxesImage at 0x7f7c0cc41710>"
          },
          "metadata": {}
        },
        {
          "output_type": "display_data",
          "data": {
            "image/png": "[encoded data removed]",
            "text/plain": "<Figure size 432x288 with 1 Axes>"
          },
          "metadata": {
            "needs_background": "light"
          }
        }
      ]
    },
    {
      "metadata": {
        "trusted": true
      },
      "cell_type": "code",
      "source": "",
      "execution_count": null,
      "outputs": []
    }
  ],
  "metadata": {
    "kernelspec": {
      "name": "python36",
      "display_name": "Python 3.6",
      "language": "python"
    },
    "language_info": {
      "mimetype": "text/x-python",
      "nbconvert_exporter": "python",
      "name": "python",
      "pygments_lexer": "ipython3",
      "version": "3.6.6",
      "file_extension": ".py",
      "codemirror_mode": {
        "version": 3,
        "name": "ipython"
      }
    }
  },
  "nbformat": 4,
  "nbformat_minor": 2
}